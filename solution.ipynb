{
 "cells": [
  {
   "cell_type": "code",
   "execution_count": 1,
   "metadata": {},
   "outputs": [],
   "source": [
    "import numpy as np\n",
    "import pandas as pd\n",
    "import seaborn as sn\n",
    "import matplotlib.pyplot as plt\n",
    "from datetime import time\n",
    "import os as os\n",
    "from itertools import product\n",
    "import scipy.stats as ss"
   ]
  },
  {
   "cell_type": "code",
   "execution_count": 2,
   "metadata": {},
   "outputs": [
    {
     "name": "stderr",
     "output_type": "stream",
     "text": [
      "/Users/leonelvenegaskerbs/anaconda3/lib/python3.6/site-packages/IPython/core/interactiveshell.py:3044: DtypeWarning: Columns (1,6) have mixed types.Specify dtype option on import or set low_memory=False.\n",
      "  interactivity=interactivity, compiler=compiler, result=result)\n"
     ]
    }
   ],
   "source": [
    "df = pd.read_csv('dataset_SCL.csv')"
   ]
  },
  {
   "cell_type": "code",
   "execution_count": 3,
   "metadata": {},
   "outputs": [],
   "source": [
    "#PREGUNTA 1"
   ]
  },
  {
   "cell_type": "code",
   "execution_count": 4,
   "metadata": {},
   "outputs": [],
   "source": [
    "#Pregunta 1\n",
    "\n",
    "#Puesto que son datos categóricos, no podemos referirnos a una distribución estadística propiamente tal\n",
    "#Ahora bien, podemos estudiar los histogramas de las variables para tener una primera visualización de cómo están\n",
    "#conformados los datos.\n",
    "\n"
   ]
  },
  {
   "cell_type": "code",
   "execution_count": 5,
   "metadata": {
    "scrolled": true
   },
   "outputs": [
    {
     "data": {
      "text/plain": [
       "12    6356\n",
       "1     6108\n",
       "11    6080\n",
       "10    6032\n",
       "7     5992\n",
       "8     5744\n",
       "9     5610\n",
       "2     5561\n",
       "3     5482\n",
       "5     5240\n",
       "4     5020\n",
       "6     4981\n",
       "Name: MES, dtype: int64"
      ]
     },
     "execution_count": 5,
     "metadata": {},
     "output_type": "execute_result"
    }
   ],
   "source": [
    "#Pregunta 1\n",
    "\n",
    "#Comenzamos viendo la temporalidad de los datos\n",
    "\n",
    "df['MES'].value_counts()"
   ]
  },
  {
   "cell_type": "code",
   "execution_count": 6,
   "metadata": {
    "scrolled": true
   },
   "outputs": [
    {
     "data": {
      "image/png": "[encoded data removed]",
      "text/plain": [
       "<Figure size 432x288 with 1 Axes>"
      ]
     },
     "metadata": {
      "needs_background": "light"
     },
     "output_type": "display_data"
    }
   ],
   "source": [
    "sn.countplot(x='MES',data=df,palette='hls')\n",
    "ax = plt.gca()\n",
    "plt.draw()\n",
    "ax.tick_params(axis='x', labelrotation=45)\n",
    "plt.title('Frecuencia de datos por mes')\n",
    "plt.xlabel('Mes')\n",
    "plt.ylabel('Frecuencia')\n",
    "\n",
    "plt.show()"
   ]
  },
  {
   "cell_type": "code",
   "execution_count": 7,
   "metadata": {
    "scrolled": true
   },
   "outputs": [
    {
     "data": {
      "text/plain": [
       "Viernes      10292\n",
       "Jueves       10251\n",
       "Lunes        10131\n",
       "Domingo       9796\n",
       "Miercoles     9722\n",
       "Martes        9662\n",
       "Sabado        8352\n",
       "Name: DIANOM, dtype: int64"
      ]
     },
     "execution_count": 7,
     "metadata": {},
     "output_type": "execute_result"
    }
   ],
   "source": [
    "df['DIANOM'].value_counts()"
   ]
  },
  {
   "cell_type": "code",
   "execution_count": 8,
   "metadata": {
    "scrolled": false
   },
   "outputs": [
    {
     "data": {
      "image/png": "[encoded data removed]",
      "text/plain": [
       "<Figure size 432x288 with 1 Axes>"
      ]
     },
     "metadata": {
      "needs_background": "light"
     },
     "output_type": "display_data"
    }
   ],
   "source": [
    "sn.countplot(x='DIANOM',data=df,palette='hls')\n",
    "ax = plt.gca()\n",
    "plt.draw()\n",
    "ax.tick_params(axis='x', labelrotation=90)\n",
    "plt.title('Frecuencia de datos por día nominal')\n",
    "plt.xlabel('Día nominal')\n",
    "plt.ylabel('Frecuencia')\n",
    "\n",
    "plt.show()"
   ]
  },
  {
   "cell_type": "code",
   "execution_count": 9,
   "metadata": {},
   "outputs": [],
   "source": [
    "#Pregunta 1\n",
    "\n",
    "#Vemos que la frecuencia de datos por mes es similar, aunque no del todo homogenea.\n",
    "#Pero sí lo es en términos de días nominales\n",
    "\n"
   ]
  },
  {
   "cell_type": "code",
   "execution_count": 10,
   "metadata": {},
   "outputs": [
    {
     "data": {
      "text/plain": [
       "Grupo LATAM                 40892\n",
       "Sky Airline                 14298\n",
       "Aerolineas Argentinas        1949\n",
       "Copa Air                     1850\n",
       "Latin American Wings         1674\n",
       "Avianca                      1152\n",
       "JetSmart SPA                 1095\n",
       "Gol Trans                     806\n",
       "American Airlines             757\n",
       "Air Canada                    565\n",
       "Iberia                        362\n",
       "Air France                    358\n",
       "Delta Air                     358\n",
       "Aeromexico                    351\n",
       "United Airlines               335\n",
       "Oceanair Linhas Aereas        279\n",
       "Alitalia                      259\n",
       "K.L.M.                        251\n",
       "British Airways               205\n",
       "Qantas Airways                195\n",
       "Lacsa                          92\n",
       "Austral                        74\n",
       "Plus Ultra Lineas Aereas       49\n",
       "Name: OPERA, dtype: int64"
      ]
     },
     "execution_count": 10,
     "metadata": {},
     "output_type": "execute_result"
    }
   ],
   "source": [
    "#Pregunta 1\n",
    "\n",
    "#Continuamos analizando los datos en términos de aerolíneas contenidas en la muestra\n",
    "\n",
    "\n",
    "\n",
    "df['OPERA'].value_counts()"
   ]
  },
  {
   "cell_type": "code",
   "execution_count": 11,
   "metadata": {
    "scrolled": true
   },
   "outputs": [
    {
     "data": {
      "image/png": "[encoded data removed]",
      "text/plain": [
       "<Figure size 432x288 with 1 Axes>"
      ]
     },
     "metadata": {
      "needs_background": "light"
     },
     "output_type": "display_data"
    }
   ],
   "source": [
    "sn.countplot(x='OPERA',data=df,palette='hls')\n",
    "ax = plt.gca()\n",
    "plt.draw()\n",
    "ax.tick_params(axis='x', labelrotation=90)\n",
    "plt.title('Frecuencia de datos por aerolínea')\n",
    "plt.xlabel('Aerolínea')\n",
    "plt.ylabel('Frecuencia')\n",
    "\n",
    "plt.show()"
   ]
  },
  {
   "cell_type": "code",
   "execution_count": 12,
   "metadata": {},
   "outputs": [],
   "source": [
    "#Pregunta 1\n",
    "\n",
    "#Podemos obsvervar que si bien los datos son públicos y reales, corresponden mayormente a vuelos operados por\n",
    "#Grupo LATAM, por lo que los resultados de la probabilidad de atraso de los vuelos que aterrizan o despegan del \n",
    "#aeropuerto de Santiago de Chile estarán influenciados mayormente por la calidad de operación de LATAM \n",
    "#Por lo tanto, el ajuste de los datos será mejor para datos provenientes de este Grupo en comparación a otras\n",
    "#aerolíneas que operan en el aeropuerto de Santiago."
   ]
  },
  {
   "cell_type": "code",
   "execution_count": 13,
   "metadata": {},
   "outputs": [
    {
     "data": {
      "text/plain": [
       "N    36966\n",
       "I    31240\n",
       "Name: TIPOVUELO, dtype: int64"
      ]
     },
     "execution_count": 13,
     "metadata": {},
     "output_type": "execute_result"
    }
   ],
   "source": [
    "#Pregunta 1\n",
    "\n",
    "#Por último, analizamos los datos según tipo de vuelo y destino\n",
    "\n",
    "\n",
    "\n",
    "df['TIPOVUELO'].value_counts()"
   ]
  },
  {
   "cell_type": "code",
   "execution_count": 14,
   "metadata": {
    "scrolled": true
   },
   "outputs": [
    {
     "data": {
      "image/png": "[encoded data removed]",
      "text/plain": [
       "<Figure size 432x288 with 1 Axes>"
      ]
     },
     "metadata": {
      "needs_background": "light"
     },
     "output_type": "display_data"
    }
   ],
   "source": [
    "sn.countplot(x='TIPOVUELO',data=df,palette='hls')\n",
    "ax = plt.gca()\n",
    "plt.draw()\n",
    "ax.tick_params(axis='x', labelrotation=0)\n",
    "plt.title('Frecuencia de datos por tipo de vuelo')\n",
    "plt.xlabel('Tipo de vuelo')\n",
    "plt.ylabel('Frecuencia')\n",
    "\n",
    "plt.show()"
   ]
  },
  {
   "cell_type": "code",
   "execution_count": 15,
   "metadata": {},
   "outputs": [],
   "source": [
    "#Pregunta 1\n",
    "\n",
    "#Vemos que la mayoría de los datos contenidos en la muestra corresponden a vuelos nacionales.\n",
    "#Esto podría influenciar los resultados de la probabilidad de atraso en el sentido de que\n",
    "#los procesos nacionales tanto desde el lado de la aerolínea como del cliente deberían ser menos exigentes\n",
    "#y más rápidos en comparación a un vuelo internacional que depende de regulaciones externas."
   ]
  },
  {
   "cell_type": "code",
   "execution_count": 16,
   "metadata": {},
   "outputs": [
    {
     "data": {
      "image/png": "[encoded data removed]",
      "text/plain": [
       "<Figure size 432x288 with 1 Axes>"
      ]
     },
     "metadata": {
      "needs_background": "light"
     },
     "output_type": "display_data"
    }
   ],
   "source": [
    "sn.countplot(x='SIGLADES',data=df,palette='hls')\n",
    "ax = plt.gca()\n",
    "plt.draw()\n",
    "ax.tick_params(axis='x', labelrotation=90,labelsize=7)\n",
    "\n",
    "plt.title('Frecuencia de datos por destino')\n",
    "plt.xlabel('Destino')\n",
    "plt.ylabel('Frecuencia')\n",
    "\n",
    "plt.show()"
   ]
  },
  {
   "cell_type": "code",
   "execution_count": 17,
   "metadata": {},
   "outputs": [
    {
     "data": {
      "image/png": "[encoded data removed]",
      "text/plain": [
       "<Figure size 432x288 with 1 Axes>"
      ]
     },
     "metadata": {
      "needs_background": "light"
     },
     "output_type": "display_data"
    }
   ],
   "source": [
    "sn.countplot(x='SIGLADES',data=df.loc[df['TIPOVUELO'] == 'I'],palette='hls')\n",
    "ax = plt.gca()\n",
    "plt.draw()\n",
    "ax.tick_params(axis='x', labelrotation=90,labelsize=7)\n",
    "\n",
    "plt.title('Frecuencia de datos por destino')\n",
    "plt.xlabel('Destino')\n",
    "plt.ylabel('Frecuencia')\n",
    "\n",
    "plt.show()"
   ]
  },
  {
   "cell_type": "code",
   "execution_count": 18,
   "metadata": {},
   "outputs": [],
   "source": [
    "#Pregunta 1\n",
    "\n",
    "#Ahora bien, dentro de los vuelos internacionales, la mayoría tienen como destino Buenos Aires, Lima y Sao Paulo.\n",
    "#Es decir, todos destinos dentro de Latinoamérica, y con distancias relativamente cortas.\n",
    "#Esto también podría influenciar la probabilidad de atraso, dados los acuerdos comerciales en Latinoamérica,\n",
    "#la presencia de las aerolíneas en esta región, y los factores operativos como carga de combustible y preparación\n",
    "#de comidas en comparación a vuelos internacionales de distancias más largas."
   ]
  },
  {
   "cell_type": "code",
   "execution_count": 19,
   "metadata": {},
   "outputs": [],
   "source": [
    "#PREGUNTA 2"
   ]
  },
  {
   "cell_type": "code",
   "execution_count": 20,
   "metadata": {},
   "outputs": [],
   "source": [
    "#pregunta 2\n",
    "#variable dif_min\n",
    "\n",
    "#Transformamos las variables en formato fecha estandarizado\n",
    "\n",
    "df[[\"Fecha-O\", \"Fecha-I\"]] = df[[\"Fecha-O\", \"Fecha-I\"]].apply(pd.to_datetime)\n",
    "\n",
    "#Obtenemos la diferencia entre fechas, lo transformamos a escala de minutos, y creamos la variable \"dif_min\"\n",
    "\n",
    "df[\"dif_min\"]=df[\"Fecha-O\"]-df[\"Fecha-I\"]\n",
    "\n",
    "df['dif_min'] = df['dif_min'] / pd.Timedelta(minutes=1)"
   ]
  },
  {
   "cell_type": "code",
   "execution_count": 21,
   "metadata": {},
   "outputs": [],
   "source": [
    "#pregunta 2\n",
    "#variable atraso_15\n",
    "\n",
    "#Aplicamos la condición requerida para crear la variable \"atraso_15\"\n",
    "\n",
    "df[\"atraso_15\"] = df[\"dif_min\"].apply(lambda x: 1 if x > 15 else 0)\n"
   ]
  },
  {
   "cell_type": "code",
   "execution_count": 22,
   "metadata": {},
   "outputs": [
    {
     "data": {
      "text/plain": [
       "array([2017, 2018])"
      ]
     },
     "execution_count": 22,
     "metadata": {},
     "output_type": "execute_result"
    }
   ],
   "source": [
    "#pregunta 2\n",
    "#variable temporada_alta\n",
    "\n",
    "#vemos los años contenidos en los datos\n",
    "df.AÑO.unique()"
   ]
  },
  {
   "cell_type": "code",
   "execution_count": 23,
   "metadata": {},
   "outputs": [],
   "source": [
    "#pregunta 2\n",
    "#variable temporada_alta\n",
    "\n",
    "#Luego construimos las ventanas de tiempo para crear la variable de acuerdo a las condiciones de fecha\n",
    "\n",
    "start_date1 = pd.to_datetime('15 dec 2016')\n",
    "end_date1 = pd.to_datetime('3 mar 2017')\n",
    "start_date2 = pd.to_datetime('15 jul 2017')\n",
    "end_date2 = pd.to_datetime('31 jul 2017')\n",
    "start_date3 = pd.to_datetime('11 sep 2017')\n",
    "end_date3 =pd.to_datetime('30 sep 2017')\n",
    "start_date4 = pd.to_datetime('15 dec 2017')\n",
    "end_date4 = pd.to_datetime('3 mar 2018')\n",
    "start_date5 = pd.to_datetime('15 jul 2018')\n",
    "end_date5 = pd.to_datetime('31 jul 2018')\n",
    "start_date6 = pd.to_datetime('11 sep 2018')\n",
    "end_date6 =pd.to_datetime('30 sep 2018')\n",
    "start_date7 = pd.to_datetime('15 dec 2018')\n",
    "end_date7 = pd.to_datetime('3 mar 2019')\n",
    "\n",
    "#Especificamos las condiciones\n",
    "\n",
    "condition1=df[\"temporada_alta\"]=df[\"Fecha-I\"].between(start_date1,end_date1, inclusive=True)\n",
    "condition2=df[\"temporada_alta\"]=df[\"Fecha-I\"].between(start_date2,end_date2, inclusive=True)\n",
    "condition3=df[\"temporada_alta\"]=df[\"Fecha-I\"].between(start_date3,end_date3, inclusive=True)\n",
    "condition4=df[\"temporada_alta\"]=df[\"Fecha-I\"].between(start_date4,end_date4, inclusive=True)\n",
    "condition5=df[\"temporada_alta\"]=df[\"Fecha-I\"].between(start_date5,end_date5, inclusive=True)\n",
    "condition6=df[\"temporada_alta\"]=df[\"Fecha-I\"].between(start_date6,end_date6, inclusive=True)\n",
    "condition7=df[\"temporada_alta\"]=df[\"Fecha-I\"].between(start_date7,end_date7, inclusive=True)\n",
    "\n",
    "#Creamos la variable \"temporada_alta\"\n",
    "\n",
    "df.loc[(df['Fecha-I'].between(start_date1,end_date1, inclusive=True))| (df['Fecha-I'].between(start_date2,end_date2, inclusive=True))| (df['Fecha-I'].between(start_date3,end_date3, inclusive=True))| (df['Fecha-I'].between(start_date4,end_date4, inclusive=True))|(df['Fecha-I'].between(start_date5,end_date5, inclusive=True))|(df['Fecha-I'].between(start_date6,end_date6, inclusive=True))|(df['Fecha-I'].between(start_date7,end_date7, inclusive=True)),'temporada_alta'] = 1  \n",
    "\n",
    "f = lambda x: 0 if x==False else 1\n",
    "df['temporada_alta'] = df['temporada_alta'].map(f)\n"
   ]
  },
  {
   "cell_type": "code",
   "execution_count": 24,
   "metadata": {},
   "outputs": [],
   "source": [
    "#pregunta 2\n",
    "#variable periodo_dia\n",
    "\n",
    "#Creamos las ventanas de tiempo de acuerdo a las categorías requeridas para la variable\n",
    "\n",
    "start_time1 = time(5,0,0)\n",
    "end_time1 = time(11,59,0)\n",
    "\n",
    "start_time2 = time(12,0,0)\n",
    "end_time2 = time(18,59,0)\n",
    "\n",
    "start_time3 = time(19,0,0)\n",
    "end_time3 = time(4,59,0)\n",
    "\n",
    "#Obtenemos el tiempo de la variable \"Fecha\"\n",
    "\n",
    "df[\"time\"] = df['Fecha-I'].dt.time\n",
    "\n",
    "#Especificamos las condiciones y creamos la variable \"periodo_dia\"\n",
    "\n",
    "\n",
    "df.loc[(df['time'] >= start_time1) & (df['time'] <= end_time1), 'periodo_dia'] = 'mañana'\n",
    "df.loc[(df['time'] >= start_time2) & (df['time'] <= end_time2), 'periodo_dia'] = 'tarde'  \n",
    "df.loc[(df['time'] >= start_time3), 'periodo_dia'] = 'noche'\n",
    "df.loc[(df['time'] <= end_time3), 'periodo_dia'] = 'noche'\n"
   ]
  },
  {
   "cell_type": "code",
   "execution_count": 25,
   "metadata": {},
   "outputs": [],
   "source": [
    "#pregunta 2\n",
    "# exportar columnas de interés\n",
    "\n",
    "synthetic_features = df[['temporada_alta','dif_min','atraso_15','periodo_dia']]\n",
    "synthetic_features.to_csv('synthetic_features.csv')"
   ]
  },
  {
   "cell_type": "code",
   "execution_count": 26,
   "metadata": {},
   "outputs": [],
   "source": [
    "#PREGUNTA 3"
   ]
  },
  {
   "cell_type": "code",
   "execution_count": 27,
   "metadata": {},
   "outputs": [],
   "source": [
    "#Pregunta 3\n",
    "#Supuesto: Consideramos atraso si la diferencia entre vuelo programado y operado es mayor a 15 minutos"
   ]
  },
  {
   "cell_type": "code",
   "execution_count": 28,
   "metadata": {},
   "outputs": [
    {
     "data": {
      "text/plain": [
       "SIGLADES\n",
       "Antofagasta      0.146388\n",
       "Arica            0.135468\n",
       "Asuncion         0.284483\n",
       "Atlanta          0.058659\n",
       "Auckland N.Z.    0.373961\n",
       "                   ...   \n",
       "Toronto          0.314488\n",
       "Tucuman          0.263158\n",
       "Ushuia           0.666667\n",
       "Valdivia         0.155378\n",
       "Washington       0.000000\n",
       "Name: atraso_15, Length: 62, dtype: float64"
      ]
     },
     "execution_count": 28,
     "metadata": {},
     "output_type": "execute_result"
    }
   ],
   "source": [
    "#Pregunta 3\n",
    "#Calculamos tasa de atraso como (vuelos con atraso/total de vuelos) para cada categoría requerida\n",
    "\n",
    "\n",
    "#tasa de atraso por destino\n",
    "df.groupby('SIGLADES')['atraso_15'].mean()"
   ]
  },
  {
   "cell_type": "code",
   "execution_count": 29,
   "metadata": {},
   "outputs": [
    {
     "data": {
      "text/plain": [
       "OPERA\n",
       "Aerolineas Argentinas       0.240123\n",
       "Aeromexico                  0.028490\n",
       "Air Canada                  0.456637\n",
       "Air France                  0.083799\n",
       "Alitalia                    0.111969\n",
       "American Airlines           0.067371\n",
       "Austral                     0.202703\n",
       "Avianca                     0.265625\n",
       "British Airways             0.141463\n",
       "Copa Air                    0.062703\n",
       "Delta Air                   0.058659\n",
       "Gol Trans                   0.356079\n",
       "Grupo LATAM                 0.178666\n",
       "Iberia                      0.099448\n",
       "JetSmart SPA                0.178995\n",
       "K.L.M.                      0.083665\n",
       "Lacsa                       0.119565\n",
       "Latin American Wings        0.406810\n",
       "Oceanair Linhas Aereas      0.154122\n",
       "Plus Ultra Lineas Aereas    0.612245\n",
       "Qantas Airways              0.579487\n",
       "Sky Airline                 0.177647\n",
       "United Airlines             0.050746\n",
       "Name: atraso_15, dtype: float64"
      ]
     },
     "execution_count": 29,
     "metadata": {},
     "output_type": "execute_result"
    }
   ],
   "source": [
    "#Pregunta 3\n",
    "#tasa de atraso por aerolinea\n",
    "df.groupby('OPERA')['atraso_15'].mean()"
   ]
  },
  {
   "cell_type": "code",
   "execution_count": 30,
   "metadata": {},
   "outputs": [
    {
     "data": {
      "text/plain": [
       "MES\n",
       "1     0.160118\n",
       "2     0.151591\n",
       "3     0.115104\n",
       "4     0.116534\n",
       "5     0.157824\n",
       "6     0.171050\n",
       "7     0.293391\n",
       "8     0.173398\n",
       "9     0.172371\n",
       "10    0.225962\n",
       "11    0.197204\n",
       "12    0.254091\n",
       "Name: atraso_15, dtype: float64"
      ]
     },
     "execution_count": 30,
     "metadata": {},
     "output_type": "execute_result"
    }
   ],
   "source": [
    "#Pregunta 3\n",
    "#tasa de atraso por mes\n",
    "df.groupby('MES')['atraso_15'].mean()"
   ]
  },
  {
   "cell_type": "code",
   "execution_count": 31,
   "metadata": {},
   "outputs": [
    {
     "data": {
      "text/plain": [
       "DIANOM\n",
       "Domingo      0.161086\n",
       "Jueves       0.199493\n",
       "Lunes        0.202152\n",
       "Martes       0.169116\n",
       "Miercoles    0.170850\n",
       "Sabado       0.163194\n",
       "Viernes      0.222017\n",
       "Name: atraso_15, dtype: float64"
      ]
     },
     "execution_count": 31,
     "metadata": {},
     "output_type": "execute_result"
    }
   ],
   "source": [
    "#Pregunta 3\n",
    "#tasa de atraso por día de semana\n",
    "df.groupby('DIANOM')['atraso_15'].mean()"
   ]
  },
  {
   "cell_type": "code",
   "execution_count": 32,
   "metadata": {},
   "outputs": [
    {
     "data": {
      "text/plain": [
       "temporada_alta\n",
       "0    0.179454\n",
       "1    0.196299\n",
       "Name: atraso_15, dtype: float64"
      ]
     },
     "execution_count": 32,
     "metadata": {},
     "output_type": "execute_result"
    }
   ],
   "source": [
    "#Pregunta 3\n",
    "#tasa de atraso por temporada\n",
    "df.groupby('temporada_alta')['atraso_15'].mean()"
   ]
  },
  {
   "cell_type": "code",
   "execution_count": 33,
   "metadata": {},
   "outputs": [
    {
     "data": {
      "text/plain": [
       "TIPOVUELO\n",
       "I    0.225608\n",
       "N    0.150571\n",
       "Name: atraso_15, dtype: float64"
      ]
     },
     "execution_count": 33,
     "metadata": {},
     "output_type": "execute_result"
    }
   ],
   "source": [
    "#Pregunta 3\n",
    "#tasa de atraso por tipo de vuelo\n",
    "df.groupby('TIPOVUELO')['atraso_15'].mean()"
   ]
  },
  {
   "cell_type": "code",
   "execution_count": 34,
   "metadata": {},
   "outputs": [
    {
     "data": {
      "text/plain": [
       "[('SIGLADES', 'OPERA', 0.0),\n",
       " ('SIGLADES', 'MES', 5.464585853613318e-154),\n",
       " ('SIGLADES', 'DIANOM', 0.0),\n",
       " ('SIGLADES', 'temporada_alta', 1.3268337723777273e-63),\n",
       " ('SIGLADES', 'TIPOVUELO', 0.0),\n",
       " ('SIGLADES', 'periodo_dia', 0.0),\n",
       " ('SIGLADES', 'atraso_15', 0.0),\n",
       " ('OPERA', 'SIGLADES', 0.0),\n",
       " ('OPERA', 'MES', 0.0),\n",
       " ('OPERA', 'DIANOM', 3.471237609128316e-67),\n",
       " ('OPERA', 'temporada_alta', 5.872549315023724e-10),\n",
       " ('OPERA', 'TIPOVUELO', 0.0),\n",
       " ('OPERA', 'periodo_dia', 0.0),\n",
       " ('OPERA', 'atraso_15', 0.0),\n",
       " ('MES', 'SIGLADES', 5.464585853613318e-154),\n",
       " ('MES', 'OPERA', 0.0),\n",
       " ('MES', 'DIANOM', 8.870035590468543e-120),\n",
       " ('MES', 'temporada_alta', 0.0),\n",
       " ('MES', 'TIPOVUELO', 9.96644190674687e-09),\n",
       " ('MES', 'periodo_dia', 2.558150381729716e-13),\n",
       " ('MES', 'atraso_15', 3.258816885399541e-247),\n",
       " ('DIANOM', 'SIGLADES', 0.0),\n",
       " ('DIANOM', 'OPERA', 3.4712376091281175e-67),\n",
       " ('DIANOM', 'MES', 8.870035590469048e-120),\n",
       " ('DIANOM', 'temporada_alta', 0.009775774980112404),\n",
       " ('DIANOM', 'TIPOVUELO', 4.396958051369009e-55),\n",
       " ('DIANOM', 'periodo_dia', 8.726732125855699e-16),\n",
       " ('DIANOM', 'atraso_15', 9.389834339286757e-45),\n",
       " ('temporada_alta', 'SIGLADES', 1.326833772377727e-63),\n",
       " ('temporada_alta', 'OPERA', 5.872549315023723e-10),\n",
       " ('temporada_alta', 'MES', 0.0),\n",
       " ('temporada_alta', 'DIANOM', 0.009775774980112404),\n",
       " ('temporada_alta', 'TIPOVUELO', 0.6617634760908506),\n",
       " ('temporada_alta', 'periodo_dia', 2.7761726798594985e-07),\n",
       " ('temporada_alta', 'atraso_15', 1.1620841044100362e-07),\n",
       " ('TIPOVUELO', 'SIGLADES', 0.0),\n",
       " ('TIPOVUELO', 'OPERA', 0.0),\n",
       " ('TIPOVUELO', 'MES', 9.966441906746834e-09),\n",
       " ('TIPOVUELO', 'DIANOM', 4.396958051368884e-55),\n",
       " ('TIPOVUELO', 'temporada_alta', 0.6617634760908506),\n",
       " ('TIPOVUELO', 'periodo_dia', 0.0),\n",
       " ('TIPOVUELO', 'atraso_15', 1.8798465447629107e-139),\n",
       " ('periodo_dia', 'SIGLADES', 0.0),\n",
       " ('periodo_dia', 'OPERA', 0.0),\n",
       " ('periodo_dia', 'MES', 2.558150381729735e-13),\n",
       " ('periodo_dia', 'DIANOM', 8.726732125855699e-16),\n",
       " ('periodo_dia', 'temporada_alta', 2.776172679859505e-07),\n",
       " ('periodo_dia', 'TIPOVUELO', 0.0),\n",
       " ('periodo_dia', 'atraso_15', 1.0758024973326067e-36),\n",
       " ('atraso_15', 'SIGLADES', 0.0),\n",
       " ('atraso_15', 'OPERA', 0.0),\n",
       " ('atraso_15', 'MES', 3.2588168853999126e-247),\n",
       " ('atraso_15', 'DIANOM', 9.389834339286893e-45),\n",
       " ('atraso_15', 'temporada_alta', 1.1620841044100362e-07),\n",
       " ('atraso_15', 'TIPOVUELO', 1.8798465447629107e-139),\n",
       " ('atraso_15', 'periodo_dia', 1.0758024973325912e-36)]"
      ]
     },
     "execution_count": 34,
     "metadata": {},
     "output_type": "execute_result"
    }
   ],
   "source": [
    "#Pregunta 3\n",
    "\n",
    "#Para evaluar cuáles de las categorías planteadas esperaríamos que fueran variables que influeyeran\n",
    "#en predecir atrasos, calculamos la correlación para variables categóricas\n",
    "#En otras palabras, usamos test Chi square\n",
    "\n",
    "\n",
    "#También hemos agregado la variable periodo_dia\" en el test, puesto que a priori hace sentido que \n",
    "#la probabilidad de atraso sea diferente si es que hay diferencias en el volumen de vuelos por período del día\n",
    "\n",
    "#Correlación de variables categóricas\n",
    "subset = df[[\"SIGLADES\", \"OPERA\",\"MES\",\"DIANOM\",\"temporada_alta\",\"TIPOVUELO\",\"periodo_dia\",\"atraso_15\"]]\n",
    "cat_1 = (\"SIGLADES\", \"OPERA\",\"MES\",\"DIANOM\",\"temporada_alta\",\"TIPOVUELO\",\"periodo_dia\",\"atraso_15\")\n",
    "cat_2 = (\"SIGLADES\", \"OPERA\",\"MES\",\"DIANOM\",\"temporada_alta\",\"TIPOVUELO\",\"periodo_dia\",\"atraso_15\")\n",
    "cat_prod = list(product(cat_1,cat_2, repeat = 1))\n",
    "\n",
    "result = []\n",
    "for i in cat_prod:\n",
    "    if i[0] != i[1]:\n",
    "        result.append((i[0],i[1],list(ss.chi2_contingency(pd.crosstab(\n",
    "                            subset[i[0]], subset[i[1]])))[1]))\n",
    "result"
   ]
  },
  {
   "cell_type": "code",
   "execution_count": 35,
   "metadata": {},
   "outputs": [],
   "source": [
    "#Pregunta 3\n",
    "#Vemos que todas las variables categóricas tienen un p-value<0.05 en su relacion con la variable \"atraso_15\"\n",
    "#Bajo test Chi square, esto nos indica que sí existe correlación"
   ]
  },
  {
   "cell_type": "code",
   "execution_count": 36,
   "metadata": {},
   "outputs": [],
   "source": [
    "#PREGUNTA 4"
   ]
  },
  {
   "cell_type": "code",
   "execution_count": 37,
   "metadata": {},
   "outputs": [],
   "source": [
    "#Pregunta 4\n",
    "#Importamos las librerias necesarias para modelo de regresión logística\n",
    "#Elegimos este modelo, dado que lo que queremos predecir es la probabilidad de atraso\n",
    "\n",
    "from sklearn.model_selection import train_test_split\n",
    "from sklearn.linear_model import LogisticRegression\n",
    "from sklearn import metrics\n",
    "import statsmodels.api as sm\n",
    "\n"
   ]
  },
  {
   "cell_type": "code",
   "execution_count": 38,
   "metadata": {},
   "outputs": [],
   "source": [
    "#Pregunta 4\n",
    "\n",
    "#Primero necesitamos convertir las variables string a categóricas\n",
    "#Para ello, creamos una variable dummy por categoría\n",
    "#En el caso de la variable MES, la cambiamos a string para que no sea tratada como variable continua en el modelo\n",
    "#sino como categórica\n",
    "\n",
    "\n",
    "df.loc[ df[\"MES\"] == 1, \"MES\"] = str(\"Enero\")\n",
    "df.loc[ df[\"MES\"] == 2, \"MES\"] = str(\"Febrero\")\n",
    "df.loc[ df[\"MES\"] == 3, \"MES\"] = str(\"Marzo\")\n",
    "df.loc[ df[\"MES\"] == 4, \"MES\"] = str(\"Abril\")\n",
    "df.loc[ df[\"MES\"] == 5, \"MES\"] = str(\"Mayo\")\n",
    "df.loc[ df[\"MES\"] == 6, \"MES\"] = str(\"Junio\")\n",
    "df.loc[ df[\"MES\"] == 7, \"MES\"] = str(\"Julio\")\n",
    "df.loc[ df[\"MES\"] == 8, \"MES\"] = str(\"Agosto\")\n",
    "df.loc[ df[\"MES\"] == 9, \"MES\"] = str(\"Septiembre\")\n",
    "df.loc[ df[\"MES\"] == 10, \"MES\"] = str(\"Octubre\")\n",
    "df.loc[ df[\"MES\"] == 11, \"MES\"] = str(\"Noviembre\")\n",
    "df.loc[ df[\"MES\"] == 12, \"MES\"] = str(\"Diciembre\")\n",
    "\n",
    "X = df[[\"OPERA\",\"MES\",\"DIANOM\",\"TIPOVUELO\",\"temporada_alta\",\"periodo_dia\"]]\n",
    "X = pd.get_dummies(data=X, drop_first=True)\n",
    "y = df[\"atraso_15\"]\n"
   ]
  },
  {
   "cell_type": "code",
   "execution_count": 39,
   "metadata": {},
   "outputs": [
    {
     "name": "stdout",
     "output_type": "stream",
     "text": [
      "Optimization terminated successfully.\n",
      "         Current function value: 0.455956\n",
      "         Iterations 8\n",
      "                                Results: Logit\n",
      "===============================================================================\n",
      "Model:                    Logit                Pseudo R-squared:     0.048     \n",
      "Dependent Variable:       atraso_15            AIC:                  62283.9362\n",
      "Date:                     2022-03-20 20:33     BIC:                  62676.5386\n",
      "No. Observations:         68206                Log-Likelihood:       -31099.   \n",
      "Df Model:                 42                   LL-Null:              -32657.   \n",
      "Df Residuals:             68163                LLR p-value:          0.0000    \n",
      "Converged:                1.0000               Scale:                1.0000    \n",
      "No. Iterations:           8.0000                                               \n",
      "-------------------------------------------------------------------------------\n",
      "                                Coef.  Std.Err.    z     P>|z|   [0.025  0.975]\n",
      "-------------------------------------------------------------------------------\n",
      "temporada_alta                  0.1183   0.0360   3.2881 0.0010  0.0478  0.1888\n",
      "OPERA_Aeromexico               -3.5343   0.3236 -10.9212 0.0000 -4.1686 -2.9000\n",
      "OPERA_Air Canada               -0.0856   0.0916  -0.9348 0.3499 -0.2651  0.0939\n",
      "OPERA_Air France               -2.3943   0.1951 -12.2729 0.0000 -2.7767 -2.0119\n",
      "OPERA_Alitalia                 -1.9680   0.2011  -9.7874 0.0000 -2.3621 -1.5739\n",
      "OPERA_American Airlines        -2.6291   0.1505 -17.4666 0.0000 -2.9242 -2.3341\n",
      "OPERA_Austral                  -1.4030   0.2940  -4.7727 0.0000 -1.9792 -0.8268\n",
      "OPERA_Avianca                  -0.8874   0.0744 -11.9232 0.0000 -1.0333 -0.7415\n",
      "OPERA_British Airways          -1.8066   0.2053  -8.8000 0.0000 -2.2090 -1.4043\n",
      "OPERA_Copa Air                 -2.6749   0.1020 -26.2227 0.0000 -2.8748 -2.4750\n",
      "OPERA_Delta Air                -2.7783   0.2289 -12.1400 0.0000 -3.2269 -2.3298\n",
      "OPERA_Gol Trans                -0.5674   0.0816  -6.9495 0.0000 -0.7274 -0.4074\n",
      "OPERA_Grupo LATAM              -1.1390   0.0366 -31.0792 0.0000 -1.2108 -1.0672\n",
      "OPERA_Iberia                   -2.1640   0.1798 -12.0385 0.0000 -2.5164 -1.8117\n",
      "OPERA_JetSmart SPA             -1.0254   0.0901 -11.3793 0.0000 -1.2020 -0.8488\n",
      "OPERA_K.L.M.                   -2.2504   0.2315  -9.7196 0.0000 -2.7042 -1.7966\n",
      "OPERA_Lacsa                    -2.0082   0.3246  -6.1859 0.0000 -2.6445 -1.3719\n",
      "OPERA_Latin American Wings     -0.1301   0.0613  -2.1225 0.0338 -0.2502 -0.0100\n",
      "OPERA_Oceanair Linhas Aereas   -1.8028   0.1709 -10.5503 0.0000 -2.1378 -1.4679\n",
      "OPERA_Plus Ultra Lineas Aereas  0.2800   0.3003   0.9325 0.3511 -0.3085  0.8685\n",
      "OPERA_Qantas Airways            0.3647   0.1516   2.4058 0.0161  0.0676  0.6619\n",
      "OPERA_Sky Airline              -0.9926   0.0425 -23.3778 0.0000 -1.0758 -0.9094\n",
      "OPERA_United Airlines          -2.9521   0.2526 -11.6864 0.0000 -3.4472 -2.4570\n",
      "MES_Agosto                     -0.2475   0.0467  -5.2992 0.0000 -0.3390 -0.1559\n",
      "MES_Diciembre                   0.2286   0.0470   4.8647 0.0000  0.1365  0.3207\n",
      "MES_Enero                      -0.4212   0.0589  -7.1557 0.0000 -0.5366 -0.3059\n",
      "MES_Febrero                    -0.4830   0.0604  -7.9915 0.0000 -0.6014 -0.3645\n",
      "MES_Julio                       0.4040   0.0460   8.7800 0.0000  0.3139  0.4942\n",
      "MES_Junio                      -0.2843   0.0488  -5.8278 0.0000 -0.3799 -0.1887\n",
      "MES_Marzo                      -0.7253   0.0525 -13.8091 0.0000 -0.8282 -0.6223\n",
      "MES_Mayo                       -0.3440   0.0489  -7.0413 0.0000 -0.4397 -0.2482\n",
      "MES_Noviembre                  -0.0490   0.0449  -1.0922 0.2748 -0.1370  0.0389\n",
      "MES_Octubre                     0.1352   0.0437   3.0916 0.0020  0.0495  0.2209\n",
      "MES_Septiembre                 -0.3334   0.0527  -6.3273 0.0000 -0.4366 -0.2301\n",
      "DIANOM_Jueves                   0.0192   0.0350   0.5471 0.5843 -0.0495  0.0878\n",
      "DIANOM_Lunes                    0.0041   0.0350   0.1165 0.9073 -0.0645  0.0727\n",
      "DIANOM_Martes                  -0.2167   0.0367  -5.9021 0.0000 -0.2887 -0.1447\n",
      "DIANOM_Miercoles               -0.2077   0.0366  -5.6710 0.0000 -0.2795 -0.1359\n",
      "DIANOM_Sabado                  -0.3183   0.0386  -8.2451 0.0000 -0.3940 -0.2427\n",
      "DIANOM_Viernes                  0.1309   0.0344   3.8084 0.0001  0.0635  0.1983\n",
      "TIPOVUELO_N                    -0.6162   0.0230 -26.7903 0.0000 -0.6613 -0.5712\n",
      "periodo_dia_noche               0.1760   0.0266   6.6093 0.0000  0.1238  0.2282\n",
      "periodo_dia_tarde               0.1774   0.0235   7.5387 0.0000  0.1313  0.2235\n",
      "===============================================================================\n",
      "\n"
     ]
    }
   ],
   "source": [
    "#Pregunta 4\n",
    "\n",
    "#Corremos el modelo de regresión e imprimimos los resultados\n",
    "\n",
    "logit_model=sm.Logit(y,X)\n",
    "result=logit_model.fit()\n",
    "print(result.summary2())"
   ]
  },
  {
   "cell_type": "code",
   "execution_count": 40,
   "metadata": {},
   "outputs": [],
   "source": [
    "#Pregunta 4\n",
    "\n",
    "#Ahora separamos el set de datos para entrenar y luego testear el modelo en diferentes subset de datos\n",
    "\n",
    "X_train,X_test,y_train,y_test = train_test_split(X,y,test_size=0.25,random_state=0)\n",
    "logistic_regression= LogisticRegression(max_iter=1000)\n",
    "logistic_regression.fit(X_train,y_train)\n",
    "y_pred=logistic_regression.predict(X_test)"
   ]
  },
  {
   "cell_type": "code",
   "execution_count": 41,
   "metadata": {},
   "outputs": [],
   "source": [
    "#PREGUNTA 5"
   ]
  },
  {
   "cell_type": "code",
   "execution_count": 42,
   "metadata": {},
   "outputs": [
    {
     "name": "stdout",
     "output_type": "stream",
     "text": [
      "Accuracy: 0.8139221205723669\n",
      "Precision: 0.4975845410628019\n",
      "Recall: 0.032471626733921816\n"
     ]
    }
   ],
   "source": [
    "#Pregunta 5\n",
    "#Imprimimos métricas para evaluar el performance del modelo\n",
    "\n",
    "print(\"Accuracy:\",metrics.accuracy_score(y_test, y_pred))\n",
    "print(\"Precision:\",metrics.precision_score(y_test, y_pred))\n",
    "print(\"Recall:\",metrics.recall_score(y_test, y_pred))"
   ]
  },
  {
   "cell_type": "code",
   "execution_count": 43,
   "metadata": {},
   "outputs": [
    {
     "name": "stdout",
     "output_type": "stream",
     "text": [
      "              precision    recall  f1-score   support\n",
      "\n",
      "           0       0.82      0.99      0.90     13880\n",
      "           1       0.50      0.03      0.06      3172\n",
      "\n",
      "    accuracy                           0.81     17052\n",
      "   macro avg       0.66      0.51      0.48     17052\n",
      "weighted avg       0.76      0.81      0.74     17052\n",
      "\n"
     ]
    }
   ],
   "source": [
    "#Pregunta 5\n",
    "#Imprimimos las métricas que provee la librería sklearn, de la cual obtuvimos el modelo de regresión logística\n",
    "\n",
    "from sklearn.metrics import classification_report\n",
    "print(classification_report(y_test, y_pred))"
   ]
  },
  {
   "cell_type": "code",
   "execution_count": 44,
   "metadata": {},
   "outputs": [],
   "source": [
    "#Vemos que el modelo tiene un 81% de exactitud (accuracy)\n",
    "\n",
    "#La \"precision\" ponderada es de 76%. Corresponde a la capacidad del modelo de no etiquetar\n",
    "#un vuelo como atrasado si no lo es.\n",
    "\n",
    "#El \"recall\" ponderado es de 81%. Corresponde a la capacidad del modelo de encontrar todos los vuelos atrasados.\n",
    "\n",
    "#El \"F1 score\" ponderado de 74%, la que a su vez es una ponderación de las dos métricas anteriores\n",
    "\n",
    "#Finalmente, \"support\" nos muestra el número de ocurrencias de cada clase (vuelo atrasado o no atrasado) en y_test.\n",
    "#Vemos que en el set y_test la mayoría de los datos son vuelos sin atraso (13880 sin atraso vs 3172 atrasados)\n",
    "#Esto podría explicar por qué las métricas muestran un peor desempeño para los datos de vuelos atrasados (y_test=1)"
   ]
  },
  {
   "cell_type": "code",
   "execution_count": 45,
   "metadata": {},
   "outputs": [
    {
     "name": "stdout",
     "output_type": "stream",
     "text": [
      "[[13776   104]\n",
      " [ 3069   103]]\n"
     ]
    }
   ],
   "source": [
    "#Pregunta 5\n",
    "\n",
    "#Otra métrica para evaluar la confiabilidad del modelo es la confusion_matrix\n",
    "#Esta matriz nos muestra el número de predicciones correctas e incorrectas (falsos positivos y falsos negativos)\n",
    "\n",
    "from sklearn.metrics import confusion_matrix\n",
    "confusion_matrix = confusion_matrix(y_test, y_pred)\n",
    "print(confusion_matrix)"
   ]
  },
  {
   "cell_type": "code",
   "execution_count": 46,
   "metadata": {},
   "outputs": [],
   "source": [
    "#Pregunta 5\n",
    "\n",
    "#Tenemos un total de 13776 + 103 predicciones correctas y 3069 + 104 incorrectas\n",
    "#siendo 3069 falsos negativos y 104 falsos positivos\n",
    "#En otras palabras 3069 vuelos atrasados no fueron capturados como tales\n",
    "#104 vuelos con atraso en realidad no lo eran 17052\n",
    "\n",
    "#Si bien el modelo tiene un 81% de precisión, comete mayormente el error tipo II (falsos negativos)"
   ]
  },
  {
   "cell_type": "code",
   "execution_count": 47,
   "metadata": {},
   "outputs": [],
   "source": [
    "#Pregunta 5\n",
    "\n",
    "#A partir de los resultados del modelo mostrados en la peregunta 4, tenemos que prácticamente todas las variables\n",
    "#seleccionadas influyen en la predicción (p-value<0.05): tipo de vuelo, temporada, período del día,\n",
    "#mes, día de la semana, nombre de la aerolínea que opera.\n",
    "\n",
    "#Si bien es cierto todas son variable significativas, dado que son variables categóricas, hay algunas categorías\n",
    "#que no son significativas, y que por lo tanto el modelo se podría mejorar incluyéndolas en la categoría de base\n",
    "#de cada variable categórica, respectivamente. Por ejemplo: los días nominales lunes y jueves se podrían incluir\n",
    "#a la categoría basal contra la cual se compara la variable, y que actualmente contiene al día domingo. \n",
    "\n",
    "#Otra forma de mejorar el modelo podría ser explicitar las categorías basales que hagan más sentido para\n",
    "#cada variable categórica, e incluir aquellas categorías que no resultan estadísticamente significativas.\n",
    "#Actualmente, el modelo por defecto asigna la primera categoría como base. Por ejemplo, actualmente \"abril\"\n",
    "#es la primera categoría de la variable MES en orden alfabético, pero no necesariamente es el mes que hace \n",
    "#más sentido para hacer la comparación con el resto de los meses. Por ejemplo, se podría tener como base\n",
    "#diciembre, un mes importante por sus festividades, y comparar la probabiliad de atraso respecto de ese mes.\n",
    "\n",
    "#Por último, el modelo se podría mejorar incluyendo otras variables que no están contenidas en los datos actuales.\n",
    "#Por ejemplo, la variable clima, puesto que las turbulencias o tormentas podrían retrasar la operación del vuelo."
   ]
  },
  {
   "cell_type": "code",
   "execution_count": null,
   "metadata": {},
   "outputs": [],
   "source": []
  }
 ],
 "metadata": {
  "kernelspec": {
   "display_name": "Python 3",
   "language": "python",
   "name": "python3"
  },
  "language_info": {
   "codemirror_mode": {
    "name": "ipython",
    "version": 3
   },
   "file_extension": ".py",
   "mimetype": "text/x-python",
   "name": "python",
   "nbconvert_exporter": "python",
   "pygments_lexer": "ipython3",
   "version": "3.6.8"
  }
 },
 "nbformat": 4,
 "nbformat_minor": 2
}
